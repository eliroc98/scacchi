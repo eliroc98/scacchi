{
 "cells": [
  {
   "cell_type": "code",
   "execution_count": null,
   "metadata": {},
   "outputs": [],
   "source": [
    "Andamento del gioco\n",
    "Programma parte\n",
    "Nome G1\n",
    "Nome G2\n",
    "Assegnazione del colore casuale\n",
    "\n",
    "Prepariamo la scacchiera\n",
    "Disporre le pedine al loro posto (inizializziamo)\n",
    "\n",
    "Primo turno : G? con bianco\n",
    "Chiedere che pedina vuole spostare\n",
    "Chiedere dove vuole spostare la pedina\n",
    "[Controllo sulla legalità della mossa]"
   ]
  },
  {
   "cell_type": "code",
   "execution_count": 1,
   "metadata": {},
   "outputs": [],
   "source": [
    "import numpy as np\n",
    "from colorama import Back, Fore\n",
    "import random\n",
    "from IPython.display import clear_output"
   ]
  },
  {
   "cell_type": "code",
   "execution_count": 2,
   "metadata": {},
   "outputs": [
    {
     "name": "stdout",
     "output_type": "stream",
     "text": [
      "Benvenuto al gioco più bello che c'è\n",
      "Che il giocatore 1 inserisca il suo nome, porca m: luca\n",
      "Che il giocatore 2 inserisca il suo nome, accidenti: eli\n"
     ]
    }
   ],
   "source": [
    "print(\"Benvenuto al gioco più bello che c'è\")\n",
    "G1_nome = input(\"Che il giocatore 1 inserisca il suo nome, porca m: \")\n",
    "G2_nome = input(\"Che il giocatore 2 inserisca il suo nome, accidenti: \")"
   ]
  },
  {
   "cell_type": "code",
   "execution_count": 3,
   "metadata": {},
   "outputs": [
    {
     "name": "stdout",
     "output_type": "stream",
     "text": [
      "Benvenuti luca e eli\n",
      "Ora iniziamo con il gioco serio\n"
     ]
    }
   ],
   "source": [
    "print(\"Benvenuti \"+G1_nome+\" e \"+G2_nome)\n",
    "print(\"Ora iniziamo con il gioco serio\")"
   ]
  },
  {
   "cell_type": "code",
   "execution_count": 4,
   "metadata": {},
   "outputs": [
    {
     "name": "stdout",
     "output_type": "stream",
     "text": [
      "luca è Nero\n",
      "eli è Bianco\n"
     ]
    }
   ],
   "source": [
    "if random.randint(0, 1):\n",
    "    G1_colore = \"B\"\n",
    "    G2_colore = \"N\"\n",
    "else:\n",
    "    G1_colore = \"N\"\n",
    "    G2_colore = \"B\"\n",
    "print(G1_nome+\" è \"+ (\"Bianco\" if G1_colore==\"B\" else \"Nero\"))\n",
    "print(G2_nome+\" è \"+ (\"Bianco\" if G2_colore==\"B\" else \"Nero\"))"
   ]
  },
  {
   "cell_type": "code",
   "execution_count": 5,
   "metadata": {},
   "outputs": [],
   "source": [
    "lettere = ['a', 'b', 'c', 'd', 'e', 'f', 'g', 'h']\n",
    "riga_1_8 = [\"T\",\"C\",\"A\",\"D\",\"R\",\"A\",\"C\",\"T\"]\n",
    "board = {}\n",
    "i_lettera=0\n",
    "for lettera in lettere:\n",
    "    board[lettera] = dict()\n",
    "    for numero in range(1, 9):\n",
    "        if numero == 1:\n",
    "            board[lettera][numero] = (riga_1_8[i_lettera],\"B\")\n",
    "        elif numero == 8:\n",
    "            board[lettera][numero] = (riga_1_8[i_lettera],\"N\")\n",
    "        elif numero == 2:\n",
    "            board[lettera][numero] = (\"P\",\"B\")\n",
    "        elif numero == 7:\n",
    "            board[lettera][numero] = (\"P\",\"N\")\n",
    "        else:\n",
    "            board[lettera][numero] = \"\"\n",
    "    i_lettera+=1"
   ]
  },
  {
   "cell_type": "code",
   "execution_count": 6,
   "metadata": {},
   "outputs": [],
   "source": [
    "def stampa_board():\n",
    "    stampa_gen=\"\"\n",
    "    stampa_gen +=\"\\t| \"+\" | \".join(lettere)+\" | \\n\"\n",
    "    stampa_gen+=\"\\t| \"+\" | \".join([\" \" for i in lettere ])+\" | \\n\"\n",
    "    stampa_gen+=\"-------------------------------------------------\\n\"\n",
    "    bianco = True\n",
    "    for numero in list(range(1,9))[::-1]:\n",
    "        row_stampa = str(numero)+\"\\t|\"\n",
    "        for lettera in board:\n",
    "            if board[lettera][numero] == \"\":\n",
    "                row_stampa +=(Back.WHITE if bianco else Back.CYAN)+\"   \"+Back.RESET+\"|\"\n",
    "            else:\n",
    "                if board[lettera][numero][1]==\"B\":\n",
    "                    row_stampa += (Back.WHITE if bianco else Back.CYAN)+\" \"+\"\\x1b[31m\"+board[lettera][numero][0]+\"\\x1b[0m\" +(Back.WHITE if bianco else Back.CYAN)+\" \"+Back.RESET+\"|\"\n",
    "                else:\n",
    "                    row_stampa += (Back.WHITE if bianco else Back.CYAN)+\" \"+board[lettera][numero][0] +(Back.WHITE if bianco else Back.CYAN)+\" \"+Back.RESET+\"|\"\n",
    "            bianco = not bianco\n",
    "        bianco = not bianco\n",
    "        row_stampa+=\"\\t\"+str(numero)\n",
    "        stampa_gen+=row_stampa+\"\\n\"\n",
    "        stampa_gen+=\"-------------------------------------------------\\n\"\n",
    "    stampa_gen+=\"\\t| \"+\" | \".join([\" \" for i in lettere ])+\" | \\n\"\n",
    "    stampa_gen+=\"\\t| \"+\" | \".join(lettere)+\" | \\n\"\n",
    "    return stampa_gen"
   ]
  },
  {
   "cell_type": "code",
   "execution_count": 7,
   "metadata": {},
   "outputs": [
    {
     "name": "stdout",
     "output_type": "stream",
     "text": [
      "eli, che pedina vuoi muovere? (Indicare posizione)e\n",
      "eli, dove vuoi spostarla? (Indicare posizione)e\n"
     ]
    }
   ],
   "source": [
    "gioco = True\n",
    "turno = (G1_nome if G1_colore ==\"B\" else G2_nome)\n",
    "print(stampa_board())\n",
    "while(gioco):\n",
    "    clear_output(wait=True)\n",
    "    pedina = input(turno+\", che pedina vuoi muovere? (Indicare posizione)\")\n",
    "    dove = input(turno+\", dove vuoi spostarla? (Indicare posizione)\")\n",
    "    if pedina ==\"e\" and dove == \"e\":\n",
    "        gioco = False\n",
    "        break\n",
    "    board[dove[0]][int(dove[1])] = board[pedina[0]][int(pedina[1])]\n",
    "    board[pedina[0]][int(pedina[1])]=\"\"\n",
    "    print(stampa_board())\n",
    "    turno = G1_nome if turno == G2_nome else G2_nome"
   ]
  },
  {
   "cell_type": "code",
   "execution_count": null,
   "metadata": {},
   "outputs": [],
   "source": []
  }
 ],
 "metadata": {
  "kernelspec": {
   "display_name": "Python 3",
   "language": "python",
   "name": "python3"
  },
  "language_info": {
   "codemirror_mode": {
    "name": "ipython",
    "version": 3
   },
   "file_extension": ".py",
   "mimetype": "text/x-python",
   "name": "python",
   "nbconvert_exporter": "python",
   "pygments_lexer": "ipython3",
   "version": "3.8.5"
  }
 },
 "nbformat": 4,
 "nbformat_minor": 4
}
